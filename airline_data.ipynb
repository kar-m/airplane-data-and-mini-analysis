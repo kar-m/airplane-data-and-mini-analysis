{
  "nbformat": 4,
  "nbformat_minor": 0,
  "metadata": {
    "colab": {
      "name": "airline_data.ipynb",
      "provenance": [],
      "authorship_tag": "ABX9TyNwKhoxDi25ETaZdAf04HIG",
      "include_colab_link": true
    },
    "kernelspec": {
      "name": "python3",
      "display_name": "Python 3"
    },
    "language_info": {
      "name": "python"
    }
  },
  "cells": [
    {
      "cell_type": "markdown",
      "metadata": {
        "id": "view-in-github",
        "colab_type": "text"
      },
      "source": [
        "<a href=\"https://colab.research.google.com/github/kar-m/airplane-data-and-mini-analysis/blob/main/airline_data.ipynb\" target=\"_parent\"><img src=\"https://colab.research.google.com/assets/colab-badge.svg\" alt=\"Open In Colab\"/></a>"
      ]
    },
    {
      "cell_type": "code",
      "metadata": {
        "id": "Qn6U9TEzcRQL"
      },
      "source": [
        "import numpy as np\n",
        "import pandas as pd\n",
        "from bs4 import BeautifulSoup\n",
        "import requests\n",
        "from urllib.request import Request, urlopen\n",
        "import tqdm\n",
        "import matplotlib.pyplot as plt"
      ],
      "execution_count": 183,
      "outputs": []
    },
    {
      "cell_type": "code",
      "metadata": {
        "id": "UTIDlacJdFe6"
      },
      "source": [
        "av_years = range(1920, 2022)"
      ],
      "execution_count": 140,
      "outputs": []
    },
    {
      "cell_type": "code",
      "metadata": {
        "colab": {
          "base_uri": "https://localhost:8080/"
        },
        "id": "Yzl4ES6odhCU",
        "outputId": "cca9a272-415f-4b47-b1c9-bc23cecabb1e"
      },
      "source": [
        "a = []\n",
        "for year in tqdm.tqdm(av_years):\n",
        "  url = f\"http://www.planecrashinfo.com/{year}/{year}.htm\"\n",
        "  req = Request(url,headers={'User-Agent': 'Mozilla/5.0'})\n",
        "  html = urlopen(req).read()\n",
        "  html = str(html).replace('<br>','~')\n",
        "  alpha = pd.read_html(html)[0]\n",
        "  alpha.columns = alpha.loc[0]\n",
        "  alpha.drop(index=0, inplace=True)\n",
        "  a.append(alpha)"
      ],
      "execution_count": 141,
      "outputs": [
        {
          "output_type": "stream",
          "name": "stderr",
          "text": [
            "100%|██████████| 102/102 [00:21<00:00,  4.76it/s]\n"
          ]
        }
      ]
    },
    {
      "cell_type": "code",
      "metadata": {
        "id": "RUifjE8jUFDO"
      },
      "source": [
        "data = pd.concat(a)"
      ],
      "execution_count": 142,
      "outputs": []
    },
    {
      "cell_type": "code",
      "metadata": {
        "colab": {
          "base_uri": "https://localhost:8080/",
          "height": 204
        },
        "id": "jqUk3_sEV7OG",
        "outputId": "44268228-c1cd-47eb-e85d-865ae631ffe4"
      },
      "source": [
        "data.head()"
      ],
      "execution_count": 143,
      "outputs": [
        {
          "output_type": "execute_result",
          "data": {
            "text/html": [
              "<div>\n",
              "<style scoped>\n",
              "    .dataframe tbody tr th:only-of-type {\n",
              "        vertical-align: middle;\n",
              "    }\n",
              "\n",
              "    .dataframe tbody tr th {\n",
              "        vertical-align: top;\n",
              "    }\n",
              "\n",
              "    .dataframe thead th {\n",
              "        text-align: right;\n",
              "    }\n",
              "</style>\n",
              "<table border=\"1\" class=\"dataframe\">\n",
              "  <thead>\n",
              "    <tr style=\"text-align: right;\">\n",
              "      <th></th>\n",
              "      <th>Date</th>\n",
              "      <th>Location / Operator</th>\n",
              "      <th>Aircraft Type / Registration</th>\n",
              "      <th>Fatalities</th>\n",
              "    </tr>\n",
              "  </thead>\n",
              "  <tbody>\n",
              "    <tr>\n",
              "      <th>1</th>\n",
              "      <td>17 Sep 1908</td>\n",
              "      <td>Fort Myer, Virginia~Military - U.S. Army\\n</td>\n",
              "      <td>Wright Flyer III~?</td>\n",
              "      <td>1/2(0)</td>\n",
              "    </tr>\n",
              "    <tr>\n",
              "      <th>2</th>\n",
              "      <td>07 Sep 1909</td>\n",
              "      <td>Juvisy-sur-Orge, France~?\\n</td>\n",
              "      <td>Wright Byplane~SC1</td>\n",
              "      <td>1/1(0)</td>\n",
              "    </tr>\n",
              "    <tr>\n",
              "      <th>3</th>\n",
              "      <td>12 Jul 1912</td>\n",
              "      <td>Atlantic City, New Jersey~Military - U.S. Navy\\n</td>\n",
              "      <td>Dirigible~?</td>\n",
              "      <td>5/5(0)</td>\n",
              "    </tr>\n",
              "    <tr>\n",
              "      <th>4</th>\n",
              "      <td>06 Aug 1913</td>\n",
              "      <td>Victoria, British Columbia, Canada~Private\\n</td>\n",
              "      <td>Curtiss seaplane~?</td>\n",
              "      <td>1/1(0)</td>\n",
              "    </tr>\n",
              "    <tr>\n",
              "      <th>5</th>\n",
              "      <td>09 Sep 1913</td>\n",
              "      <td>Over the North Sea~Military - German Navy\\n</td>\n",
              "      <td>Zeppelin L-1 (airship)~?</td>\n",
              "      <td>14/20(0)</td>\n",
              "    </tr>\n",
              "  </tbody>\n",
              "</table>\n",
              "</div>"
            ],
            "text/plain": [
              "0         Date  ... Fatalities\n",
              "1  17 Sep 1908  ...     1/2(0)\n",
              "2  07 Sep 1909  ...     1/1(0)\n",
              "3  12 Jul 1912  ...     5/5(0)\n",
              "4  06 Aug 1913  ...     1/1(0)\n",
              "5  09 Sep 1913  ...   14/20(0)\n",
              "\n",
              "[5 rows x 4 columns]"
            ]
          },
          "metadata": {},
          "execution_count": 143
        }
      ]
    },
    {
      "cell_type": "code",
      "metadata": {
        "colab": {
          "base_uri": "https://localhost:8080/",
          "height": 204
        },
        "id": "uU7sVQ8aWxAK",
        "outputId": "55b37a91-819b-4549-8e87-21f5c7c2a60c"
      },
      "source": [
        "data.reset_index(drop=True, inplace=True)\n",
        "data.tail()"
      ],
      "execution_count": 144,
      "outputs": [
        {
          "output_type": "execute_result",
          "data": {
            "text/html": [
              "<div>\n",
              "<style scoped>\n",
              "    .dataframe tbody tr th:only-of-type {\n",
              "        vertical-align: middle;\n",
              "    }\n",
              "\n",
              "    .dataframe tbody tr th {\n",
              "        vertical-align: top;\n",
              "    }\n",
              "\n",
              "    .dataframe thead th {\n",
              "        text-align: right;\n",
              "    }\n",
              "</style>\n",
              "<table border=\"1\" class=\"dataframe\">\n",
              "  <thead>\n",
              "    <tr style=\"text-align: right;\">\n",
              "      <th></th>\n",
              "      <th>Date</th>\n",
              "      <th>Location / Operator</th>\n",
              "      <th>Aircraft Type / Registration</th>\n",
              "      <th>Fatalities</th>\n",
              "    </tr>\n",
              "  </thead>\n",
              "  <tbody>\n",
              "    <tr>\n",
              "      <th>5006</th>\n",
              "      <td>21 May 2021</td>\n",
              "      <td>Near Kaduna, Nigeria~Military - Nigerian Air F...</td>\n",
              "      <td>Beechcraft B300 King Air 350i~NAF203</td>\n",
              "      <td>11/11(0)</td>\n",
              "    </tr>\n",
              "    <tr>\n",
              "      <th>5007</th>\n",
              "      <td>10 Jun 2021</td>\n",
              "      <td>Near Pyin Oo Lwin, Myanmar~Military - Myanmar ...</td>\n",
              "      <td>Beechcraft 1900D~4610</td>\n",
              "      <td>12/14(0)</td>\n",
              "    </tr>\n",
              "    <tr>\n",
              "      <th>5008</th>\n",
              "      <td>04 Jul 2021</td>\n",
              "      <td>Patikul, Sulu, Philippines~Military - Philippi...</td>\n",
              "      <td>Lockheed C-130H Hercules~5125</td>\n",
              "      <td>50/96(3)</td>\n",
              "    </tr>\n",
              "    <tr>\n",
              "      <th>5009</th>\n",
              "      <td>06 Jul 2021</td>\n",
              "      <td>Palana, Russia~ \\tKamchatka Aviation Enterprise\\n</td>\n",
              "      <td>Antonov An 26B-100~\\tRA-26085</td>\n",
              "      <td>28/28(0)</td>\n",
              "    </tr>\n",
              "    <tr>\n",
              "      <th>5010</th>\n",
              "      <td>12 Sep 2021</td>\n",
              "      <td>Kazachinskoye\\xa0, Russia~Aeroservice/SiLA\\n</td>\n",
              "      <td>Let L-410UVP-E20~\\tRA-67042</td>\n",
              "      <td>4/16(0)</td>\n",
              "    </tr>\n",
              "  </tbody>\n",
              "</table>\n",
              "</div>"
            ],
            "text/plain": [
              "0            Date  ... Fatalities\n",
              "5006  21 May 2021  ...   11/11(0)\n",
              "5007  10 Jun 2021  ...   12/14(0)\n",
              "5008  04 Jul 2021  ...   50/96(3)\n",
              "5009  06 Jul 2021  ...   28/28(0)\n",
              "5010  12 Sep 2021  ...    4/16(0)\n",
              "\n",
              "[5 rows x 4 columns]"
            ]
          },
          "metadata": {},
          "execution_count": 144
        }
      ]
    },
    {
      "cell_type": "code",
      "metadata": {
        "id": "FoKnnqNkWzRz"
      },
      "source": [
        "data.columns = ['DATE', 'LOCATION_OPER', 'TYPE_REG', 'FATALITIES']"
      ],
      "execution_count": 145,
      "outputs": []
    },
    {
      "cell_type": "code",
      "metadata": {
        "colab": {
          "base_uri": "https://localhost:8080/"
        },
        "id": "hoK5AIwoX4LY",
        "outputId": "a02fa790-e6fa-48ce-a2fe-6756ea90ccbb"
      },
      "source": [
        "data['TYPE_REG']"
      ],
      "execution_count": 146,
      "outputs": [
        {
          "output_type": "execute_result",
          "data": {
            "text/plain": [
              "0                         Wright Flyer III~?\n",
              "1                         Wright Byplane~SC1\n",
              "2                                Dirigible~?\n",
              "3                         Curtiss seaplane~?\n",
              "4                   Zeppelin L-1 (airship)~?\n",
              "                        ...                 \n",
              "5006    Beechcraft B300 King Air 350i~NAF203\n",
              "5007                   Beechcraft 1900D~4610\n",
              "5008           Lockheed C-130H Hercules~5125\n",
              "5009           Antonov An 26B-100~\\tRA-26085\n",
              "5010             Let L-410UVP-E20~\\tRA-67042\n",
              "Name: TYPE_REG, Length: 5011, dtype: object"
            ]
          },
          "metadata": {},
          "execution_count": 146
        }
      ]
    },
    {
      "cell_type": "code",
      "metadata": {
        "id": "x55Te8kKYmwT"
      },
      "source": [
        "a = []\n",
        "b = []\n",
        "for loc in data['LOCATION_OPER']:\n",
        "  alpha = loc.split('~')\n",
        "  a.append(alpha[0])\n",
        "  temp = alpha[1].replace('\\t', '')\n",
        "  temp = temp.replace('\\\\', '~~')\n",
        "  temp = temp.replace('~~n', '')\n",
        "  b.append(temp)"
      ],
      "execution_count": 147,
      "outputs": []
    },
    {
      "cell_type": "code",
      "metadata": {
        "id": "gfOrid7ecq0g"
      },
      "source": [
        "c = []\n",
        "d = []\n",
        "for loc in data['TYPE_REG']:\n",
        "  alpha = loc.split('~')\n",
        "  c.append(alpha[0])\n",
        "  d.append(alpha[1])"
      ],
      "execution_count": 148,
      "outputs": []
    },
    {
      "cell_type": "code",
      "metadata": {
        "id": "x5HUXQmrZkZX"
      },
      "source": [
        "data['LOCATION'] = a\n",
        "data['OPERATOR'] = b\n",
        "data['TYPE'] = c\n",
        "data['REGISTRATION'] = d"
      ],
      "execution_count": 149,
      "outputs": []
    },
    {
      "cell_type": "code",
      "metadata": {
        "colab": {
          "base_uri": "https://localhost:8080/",
          "height": 204
        },
        "id": "J_YAk9VbbSxX",
        "outputId": "2c845581-e1a4-47f2-a871-a6e10f7824c5"
      },
      "source": [
        "data.head()"
      ],
      "execution_count": 150,
      "outputs": [
        {
          "output_type": "execute_result",
          "data": {
            "text/html": [
              "<div>\n",
              "<style scoped>\n",
              "    .dataframe tbody tr th:only-of-type {\n",
              "        vertical-align: middle;\n",
              "    }\n",
              "\n",
              "    .dataframe tbody tr th {\n",
              "        vertical-align: top;\n",
              "    }\n",
              "\n",
              "    .dataframe thead th {\n",
              "        text-align: right;\n",
              "    }\n",
              "</style>\n",
              "<table border=\"1\" class=\"dataframe\">\n",
              "  <thead>\n",
              "    <tr style=\"text-align: right;\">\n",
              "      <th></th>\n",
              "      <th>DATE</th>\n",
              "      <th>LOCATION_OPER</th>\n",
              "      <th>TYPE_REG</th>\n",
              "      <th>FATALITIES</th>\n",
              "      <th>LOCATION</th>\n",
              "      <th>OPERATOR</th>\n",
              "      <th>TYPE</th>\n",
              "      <th>REGISTRATION</th>\n",
              "    </tr>\n",
              "  </thead>\n",
              "  <tbody>\n",
              "    <tr>\n",
              "      <th>0</th>\n",
              "      <td>17 Sep 1908</td>\n",
              "      <td>Fort Myer, Virginia~Military - U.S. Army\\n</td>\n",
              "      <td>Wright Flyer III~?</td>\n",
              "      <td>1/2(0)</td>\n",
              "      <td>Fort Myer, Virginia</td>\n",
              "      <td>Military - U.S. Army</td>\n",
              "      <td>Wright Flyer III</td>\n",
              "      <td>?</td>\n",
              "    </tr>\n",
              "    <tr>\n",
              "      <th>1</th>\n",
              "      <td>07 Sep 1909</td>\n",
              "      <td>Juvisy-sur-Orge, France~?\\n</td>\n",
              "      <td>Wright Byplane~SC1</td>\n",
              "      <td>1/1(0)</td>\n",
              "      <td>Juvisy-sur-Orge, France</td>\n",
              "      <td>?</td>\n",
              "      <td>Wright Byplane</td>\n",
              "      <td>SC1</td>\n",
              "    </tr>\n",
              "    <tr>\n",
              "      <th>2</th>\n",
              "      <td>12 Jul 1912</td>\n",
              "      <td>Atlantic City, New Jersey~Military - U.S. Navy\\n</td>\n",
              "      <td>Dirigible~?</td>\n",
              "      <td>5/5(0)</td>\n",
              "      <td>Atlantic City, New Jersey</td>\n",
              "      <td>Military - U.S. Navy</td>\n",
              "      <td>Dirigible</td>\n",
              "      <td>?</td>\n",
              "    </tr>\n",
              "    <tr>\n",
              "      <th>3</th>\n",
              "      <td>06 Aug 1913</td>\n",
              "      <td>Victoria, British Columbia, Canada~Private\\n</td>\n",
              "      <td>Curtiss seaplane~?</td>\n",
              "      <td>1/1(0)</td>\n",
              "      <td>Victoria, British Columbia, Canada</td>\n",
              "      <td>Private</td>\n",
              "      <td>Curtiss seaplane</td>\n",
              "      <td>?</td>\n",
              "    </tr>\n",
              "    <tr>\n",
              "      <th>4</th>\n",
              "      <td>09 Sep 1913</td>\n",
              "      <td>Over the North Sea~Military - German Navy\\n</td>\n",
              "      <td>Zeppelin L-1 (airship)~?</td>\n",
              "      <td>14/20(0)</td>\n",
              "      <td>Over the North Sea</td>\n",
              "      <td>Military - German Navy</td>\n",
              "      <td>Zeppelin L-1 (airship)</td>\n",
              "      <td>?</td>\n",
              "    </tr>\n",
              "  </tbody>\n",
              "</table>\n",
              "</div>"
            ],
            "text/plain": [
              "          DATE  ... REGISTRATION\n",
              "0  17 Sep 1908  ...            ?\n",
              "1  07 Sep 1909  ...          SC1\n",
              "2  12 Jul 1912  ...            ?\n",
              "3  06 Aug 1913  ...            ?\n",
              "4  09 Sep 1913  ...            ?\n",
              "\n",
              "[5 rows x 8 columns]"
            ]
          },
          "metadata": {},
          "execution_count": 150
        }
      ]
    },
    {
      "cell_type": "code",
      "metadata": {
        "id": "ZuE6EmhRd30Z"
      },
      "source": [
        "known_types = data[data['TYPE'] != '?']"
      ],
      "execution_count": 159,
      "outputs": []
    },
    {
      "cell_type": "code",
      "metadata": {
        "colab": {
          "base_uri": "https://localhost:8080/"
        },
        "id": "MJFFDXVcb2JB",
        "outputId": "e704241b-908a-45f6-c2af-265b9097bb7f"
      },
      "source": [
        "len(known_types.iloc[-1000:, 6].unique())"
      ],
      "execution_count": 160,
      "outputs": [
        {
          "output_type": "execute_result",
          "data": {
            "text/plain": [
              "715"
            ]
          },
          "metadata": {},
          "execution_count": 160
        }
      ]
    },
    {
      "cell_type": "code",
      "metadata": {
        "colab": {
          "base_uri": "https://localhost:8080/"
        },
        "id": "RZGQ5qMMdeOt",
        "outputId": "d9098f54-4a19-4c5a-92b3-52cb5c35a1fe"
      },
      "source": [
        "a = (known_types).groupby(by='TYPE').count()['DATE']\n",
        "a.sort_values(ascending=False)"
      ],
      "execution_count": 169,
      "outputs": [
        {
          "output_type": "execute_result",
          "data": {
            "text/plain": [
              "TYPE\n",
              "Douglas DC-3                                333\n",
              "de Havilland Canada DHC-6 Twin Otter 300     81\n",
              "Douglas C-47A                                70\n",
              "Douglas C-47                                 64\n",
              "Douglas DC-4                                 41\n",
              "                                           ... \n",
              "Ilysushin Il-76TD                             1\n",
              "Ilyushin 114T                                 1\n",
              "Ilyushin 14M                                  1\n",
              "Ilyushin 14P                                  1\n",
              "A-7D Corsair                                  1\n",
              "Name: DATE, Length: 2459, dtype: int64"
            ]
          },
          "metadata": {},
          "execution_count": 169
        }
      ]
    },
    {
      "cell_type": "code",
      "metadata": {
        "id": "Y4SQsSGtdnt2"
      },
      "source": [
        "douglas_dates = known_types[known_types['TYPE'] == 'Douglas DC-3']['DATE']"
      ],
      "execution_count": 172,
      "outputs": []
    },
    {
      "cell_type": "code",
      "metadata": {
        "id": "IC9IrHtGeo4F"
      },
      "source": [
        "douglas_dates = douglas_dates.astype('datetime64[ns]')"
      ],
      "execution_count": 177,
      "outputs": []
    },
    {
      "cell_type": "code",
      "metadata": {
        "id": "DKYGEBV4hNa9"
      },
      "source": [
        "douglas_dates['year'] = pd.Series([date.year for date in douglas_dates])"
      ],
      "execution_count": 178,
      "outputs": []
    },
    {
      "cell_type": "code",
      "metadata": {
        "colab": {
          "base_uri": "https://localhost:8080/",
          "height": 537
        },
        "id": "Ni_73aV0hQdl",
        "outputId": "89f9656c-9b65-45c7-8e55-d91185a2b9e3"
      },
      "source": [
        "plt.figure(figsize=(15, 9))\n",
        "douglas_dates['year'].plot(kind='hist', bins=40)\n",
        "plt.xticks(ticks = range(1940, 2022, 4))\n",
        "plt.show()"
      ],
      "execution_count": 192,
      "outputs": [
        {
          "output_type": "display_data",
          "data": {
            "image/png": "[encoded data removed]",
            "text/plain": [
              "<Figure size 1080x648 with 1 Axes>"
            ]
          },
          "metadata": {
            "needs_background": "light"
          }
        }
      ]
    },
    {
      "cell_type": "code",
      "metadata": {
        "id": "U5u3kMfBhpJV"
      },
      "source": [
        "douglas_dates = known_types[known_types['TYPE'].str.contains('Douglas')]['DATE']\n",
        "not_douglas = known_types[~known_types['TYPE'].str.contains('Douglas')]['DATE']"
      ],
      "execution_count": 215,
      "outputs": []
    },
    {
      "cell_type": "code",
      "metadata": {
        "colab": {
          "base_uri": "https://localhost:8080/",
          "height": 537
        },
        "id": "RkmKr-O3jtAR",
        "outputId": "7e377269-d133-499d-bf62-009c7f5e3fe5"
      },
      "source": [
        "douglas_dates = douglas_dates.astype('datetime64[ns]')\n",
        "douglas_dates['year'] = pd.Series([date.year for date in douglas_dates])\n",
        "plt.figure(figsize=(15, 9))\n",
        "douglas_dates['year'].plot(kind='hist', bins=40)\n",
        "plt.xticks(ticks = range(1940, 2020, 4))\n",
        "plt.show()"
      ],
      "execution_count": 216,
      "outputs": [
        {
          "output_type": "display_data",
          "data": {
            "image/png": "[encoded data removed]",
            "text/plain": [
              "<Figure size 1080x648 with 1 Axes>"
            ]
          },
          "metadata": {
            "needs_background": "light"
          }
        }
      ]
    },
    {
      "cell_type": "code",
      "metadata": {
        "colab": {
          "base_uri": "https://localhost:8080/",
          "height": 537
        },
        "id": "SQKzxL1olvHl",
        "outputId": "9bd0c2fa-df64-4d67-d996-edc2efc4db66"
      },
      "source": [
        "not_douglas_d = not_douglas.astype('datetime64[ns]')\n",
        "not_douglas_d['year'] = pd.Series([date.year for date in not_douglas_d])\n",
        "plt.figure(figsize=(15, 9))\n",
        "not_douglas_d['year'][not_douglas_d['year']>1937].plot(kind='hist', bins=40)\n",
        "plt.xticks(ticks = range(1940, 2020, 4))\n",
        "plt.show()"
      ],
      "execution_count": 219,
      "outputs": [
        {
          "output_type": "display_data",
          "data": {
            "image/png": "[encoded data removed]",
            "text/plain": [
              "<Figure size 1080x648 with 1 Axes>"
            ]
          },
          "metadata": {
            "needs_background": "light"
          }
        }
      ]
    },
    {
      "cell_type": "code",
      "metadata": {
        "colab": {
          "base_uri": "https://localhost:8080/",
          "height": 567
        },
        "id": "O8cT3OAlmQft",
        "outputId": "bd6d87fe-0817-4a79-a303-47e8dbac609d"
      },
      "source": [
        "plt.figure(figsize=(15, 9))\n",
        "douglas_dates['year'].plot(kind='hist', bins=40, alpha=0.6)\n",
        "not_douglas_d['year'][not_douglas_d['year']>1937].plot(kind='hist', bins=40, alpha=0.4)\n",
        "plt.legend(labels=['Airplanes by Douglas', 'All other Airplanes'])\n",
        "plt.title('Number of airplane crashes over time')\n",
        "plt.xlabel('Year')\n",
        "plt.ylabel('Number of crashes')\n",
        "plt.xticks(ticks = range(1940, 2020, 4))\n",
        "plt.show()"
      ],
      "execution_count": 225,
      "outputs": [
        {
          "output_type": "display_data",
          "data": {
            "image/png": "[encoded data removed]",
            "text/plain": [
              "<Figure size 1080x648 with 1 Axes>"
            ]
          },
          "metadata": {
            "needs_background": "light"
          }
        }
      ]
    },
    {
      "cell_type": "markdown",
      "metadata": {
        "id": "6u9XWZL5oi1_"
      },
      "source": [
        "## From these graphs it might be easy to conclude that Douglas ia very bad, no-good airplane producing company. Especially their Douglas DC-3 model. However, the interesting part is that it is quite the opposite. Douglas DC-3 was a monumental airplane, the design of which was copied by several countries including USSR and Japan. The reason a lot of these crashes are by Douglas is *because* Douglas made such great airplanes - they were used the most.\n",
        "\n",
        "#### This can be interpreted as an example of how data can be misleading and can be used by malicious actors to lead people to incorrect conclusions."
      ]
    }
  ]
}